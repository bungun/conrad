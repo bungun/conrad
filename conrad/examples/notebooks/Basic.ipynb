{
 "cells": [
  {
   "cell_type": "code",
   "execution_count": null,
   "metadata": {
    "collapsed": false
   },
   "outputs": [],
   "source": [
    "%load_ext autoreload\n",
    "%autoreload 2\n",
    "%matplotlib inline"
   ]
  },
  {
   "cell_type": "code",
   "execution_count": null,
   "metadata": {
    "collapsed": false
   },
   "outputs": [],
   "source": [
    "import conrad\n",
    "import cvxpy\n",
    "import numpy as np\n",
    "import matplotlib\n",
    "\n",
    "from matplotlib import pyplot as plt\n",
    "from conrad import Case"
   ]
  },
  {
   "cell_type": "code",
   "execution_count": null,
   "metadata": {
    "collapsed": false
   },
   "outputs": [],
   "source": [
    "# Define dimensions of problem\n",
    "m_target = 100\n",
    "m_oar = 400\n",
    "m = m_target + m_oar\n",
    "n = 200\n",
    "\n",
    "# Structure labels\n",
    "lab_tum = 0\n",
    "lab_oar = 1\n",
    "\n",
    "# Generate random beam matrix\n",
    "A_target = np.random.rand(m_target, n)\n",
    "A_oar = 0.5 * np.random.rand(m_oar, n)\n",
    "A = np.vstack((A_target, A_oar))\n",
    "\n",
    "label_order = [lab_tum, lab_oar]\n",
    "voxel_labels = [lab_tum] * m_target + [lab_oar] * m_oar"
   ]
  },
  {
   "cell_type": "code",
   "execution_count": null,
   "metadata": {
    "collapsed": true
   },
   "outputs": [],
   "source": [
    "# Prescription for each structure\n",
    "rx = [{'label': lab_tum, 'name': 'tumor', 'is_target': True,  'dose': 1., 'constraints': None},\n",
    "      {'label': lab_oar, 'name': 'oar',   'is_target': False, 'dose': 0., 'constraints': None}]"
   ]
  },
  {
   "cell_type": "code",
   "execution_count": null,
   "metadata": {
    "collapsed": false
   },
   "outputs": [],
   "source": [
    "# Construct and solve case with no DVH constraints\n",
    "cs = Case(A, voxel_labels, label_order, rx)\n",
    "cs.plan(\"ECOS\", \"dvh_no_slack\", verbose = 1)"
   ]
  },
  {
   "cell_type": "code",
   "execution_count": null,
   "metadata": {
    "collapsed": false
   },
   "outputs": [],
   "source": [
    "# Add DVH constraints and resolve case\n",
    "cs.add_dvh_constraint(lab_tum, 1.05, 0.3, '<')\n",
    "cs.add_dvh_constraint(lab_tum, 0.8, 0.2, '>')\n",
    "cs.add_dvh_constraint(lab_oar, 0.5, 0.5, '<')"
   ]
  },
  {
   "cell_type": "code",
   "execution_count": null,
   "metadata": {
    "collapsed": false
   },
   "outputs": [],
   "source": [
    "# Solve without slacks using a single pass\n",
    "cs.plan(\"ECOS\", \"dvh_no_slack\", plot = True)"
   ]
  },
  {
   "cell_type": "code",
   "execution_count": null,
   "metadata": {
    "collapsed": false
   },
   "outputs": [],
   "source": [
    "# Solve without slacks using 2 passes\n",
    "cs.plan(\"ECOS\", \"dvh_no_slack\", \"dvh_2pass\", plot = True)"
   ]
  },
  {
   "cell_type": "code",
   "execution_count": null,
   "metadata": {
    "collapsed": false
   },
   "outputs": [],
   "source": [
    "# Additional DVH constraint makes no-slack problem infeasible\n",
    "cs.add_dvh_constraint(lab_oar, 0.55, 0.1, '>')"
   ]
  },
  {
   "cell_type": "code",
   "execution_count": null,
   "metadata": {
    "collapsed": false
   },
   "outputs": [],
   "source": [
    "# Solving without slacks will result in infeasibility\n",
    "cs.plan(\"ECOS\", \"dvh_no_slack\")"
   ]
  },
  {
   "cell_type": "code",
   "execution_count": null,
   "metadata": {
    "collapsed": false
   },
   "outputs": [],
   "source": [
    "# Solve with slacks using 2 passes\n",
    "cs.plan(\"ECOS\", \"dvh_2pass\", plot = True)"
   ]
  },
  {
   "cell_type": "code",
   "execution_count": null,
   "metadata": {
    "collapsed": true
   },
   "outputs": [],
   "source": []
  }
 ],
 "metadata": {
  "kernelspec": {
   "display_name": "Python 2",
   "language": "python",
   "name": "python2"
  },
  "language_info": {
   "codemirror_mode": {
    "name": "ipython",
    "version": 2
   },
   "file_extension": ".py",
   "mimetype": "text/x-python",
   "name": "python",
   "nbconvert_exporter": "python",
   "pygments_lexer": "ipython2",
   "version": "2.7.10"
  }
 },
 "nbformat": 4,
 "nbformat_minor": 0
}
