{
 "cells": [
  {
   "cell_type": "code",
   "execution_count": 1,
   "metadata": {
    "collapsed": false
   },
   "outputs": [],
   "source": [
    "%load_ext autoreload\n",
    "%autoreload 2\n",
    "%matplotlib inline"
   ]
  },
  {
   "cell_type": "code",
   "execution_count": 2,
   "metadata": {
    "collapsed": false
   },
   "outputs": [],
   "source": [
    "import conrad\n",
    "import cvxpy\n",
    "import numpy as np\n",
    "import matplotlib\n",
    "\n",
    "from matplotlib import pyplot as plt\n",
    "from conrad import Case, CasePlotter, D"
   ]
  },
  {
   "cell_type": "code",
   "execution_count": 12,
   "metadata": {
    "collapsed": false
   },
   "outputs": [],
   "source": [
    "# Define dimensions of problem\n",
    "m_target = 100\n",
    "m_oar = 400\n",
    "m = m_target + m_oar\n",
    "n = 200\n",
    "\n",
    "# Structure labels\n",
    "lab_tum = 0\n",
    "lab_oar = 1\n",
    "\n",
    "# Generate random beam matrix\n",
    "A_target = 2 * np.random.rand(m_target, n)\n",
    "A_oar = 0.5 * np.random.rand(m_oar, n)\n",
    "A = np.vstack((A_target, A_oar))\n",
    "\n",
    "label_order = [lab_tum, lab_oar]\n",
    "voxel_labels = [lab_tum] * m_target + [lab_oar] * m_oar"
   ]
  },
  {
   "cell_type": "code",
   "execution_count": 4,
   "metadata": {
    "collapsed": true
   },
   "outputs": [],
   "source": [
    "# Prescription for each structure\n",
    "rx = [{'label': lab_tum, 'name': 'tumor', 'is_target': True,  'dose': 1., 'constraints': None},\n",
    "      {'label': lab_oar, 'name': 'oar',   'is_target': False, 'dose': 0., 'constraints': None}]"
   ]
  },
  {
   "cell_type": "code",
   "execution_count": 5,
   "metadata": {
    "collapsed": false
   },
   "outputs": [
    {
     "name": "stdout",
     "output_type": "stream",
     "text": [
      "('running solver...',)\n",
      "\n",
      "ECOS 2.0.4 - (C) embotech GmbH, Zurich Switzerland, 2012-15. Web: www.embotech.com/ECOS\n",
      "\n",
      "It     pcost       dcost      gap   pres   dres    k/t    mu     step   sigma     IR    |   BT\n",
      " 0  +5.249e+01  +5.249e+01  +5e+02  6e-01  6e-02  1e+00  1e+00    ---    ---    1  1  - |  -  - \n",
      " 1  +5.025e+01  +5.194e+01  +1e+02  8e-02  7e-03  2e+00  3e-01  0.9890  3e-01   1  2  2 |  0  0\n",
      " 2  +5.199e+01  +5.205e+01  +2e+01  7e-03  7e-04  7e-02  4e-02  0.8863  1e-02   1  2  2 |  0  0\n",
      " 3  +5.248e+01  +5.249e+01  +2e+00  6e-04  5e-05  2e-02  6e-03  0.9188  7e-02   1  1  1 |  0  0\n",
      " 4  +5.250e+01  +5.250e+01  +2e-02  6e-06  6e-07  2e-04  7e-05  0.9884  1e-04   1  1  1 |  0  0\n",
      "\n",
      "OPTIMAL (within feastol=6.5e-06, reltol=4.2e-04, abstol=2.2e-02).\n",
      "Runtime: 0.083361 seconds.\n",
      "\n",
      "('status: optimal',)\n",
      "('optimal value: -0.000171467930343',)\n"
     ]
    },
    {
     "data": {
      "text/plain": [
       "True"
      ]
     },
     "execution_count": 5,
     "metadata": {},
     "output_type": "execute_result"
    },
    {
     "data": {
      "text/plain": [
       "<matplotlib.figure.Figure at 0x10ec7de10>"
      ]
     },
     "metadata": {},
     "output_type": "display_data"
    }
   ],
   "source": [
    "# Construct and solve case with no DVH constraints\n",
    "cs = Case(A, voxel_labels, label_order, rx)\n",
    "p = CasePlotter(cs)\n",
    "cs.plan()"
   ]
  },
  {
   "cell_type": "code",
   "execution_count": 6,
   "metadata": {
    "collapsed": false
   },
   "outputs": [],
   "source": [
    "# Add DVH constraints and resolve case\n",
    "cs.structures[lab_tum].constraints += D(30) < 1.05\n",
    "cs.structures[lab_tum].constraints += D(80) > 0.8\n",
    "cs.structures[lab_oar].constraints += D(50) < 0.5"
   ]
  },
  {
   "cell_type": "code",
   "execution_count": 7,
   "metadata": {
    "collapsed": false
   },
   "outputs": [
    {
     "name": "stdout",
     "output_type": "stream",
     "text": [
      "('running solver...',)\n",
      "\n",
      "ECOS 2.0.4 - (C) embotech GmbH, Zurich Switzerland, 2012-15. Web: www.embotech.com/ECOS\n",
      "\n",
      "It     pcost       dcost      gap   pres   dres    k/t    mu     step   sigma     IR    |   BT\n",
      " 0  +5.090e+01  -6.378e+02  +5e+03  8e-01  1e+01  1e+00  3e+00    ---    ---    1  1  - |  -  - \n",
      " 1  +1.839e+02  -6.443e+04  +5e+03  6e+01  1e+03  3e+02  3e+00  0.1943  7e-01   1  0  1 |  0  0\n",
      " 2  +3.012e+01  -2.886e+02  +4e+03  3e-01  6e+00  2e+01  3e+00  0.4706  8e-01   0  0  0 |  0  0\n",
      " 3  +4.822e+01  -1.938e+01  +1e+03  5e-02  1e+00  3e+00  8e-01  0.7171  3e-02   0  0  0 |  0  0\n",
      " 4  +5.143e+01  +3.952e+01  +4e+02  7e-03  2e-01  5e-01  3e-01  0.7978  1e-01   0  0  0 |  0  0\n",
      " 5  +5.237e+01  +5.111e+01  +8e+01  7e-04  2e-02  2e-03  5e-02  0.8703  7e-02   1  0  0 |  0  0\n",
      " 6  +5.252e+01  +5.240e+01  +8e+00  6e-05  2e-03  4e-04  5e-03  0.9039  6e-03   1  1  1 |  0  0\n",
      " 7  +5.250e+01  +5.246e+01  +2e+00  2e-05  7e-04  2e-04  1e-03  0.9890  2e-01   1  1  1 |  0  0\n",
      " 8  +5.250e+01  +5.250e+01  +3e-02  4e-07  1e-05  7e-06  2e-05  0.9822  2e-04   1  1  1 |  0  0\n",
      "\n",
      "OPTIMAL (within feastol=1.4e-05, reltol=5.5e-04, abstol=2.9e-02).\n",
      "Runtime: 0.337940 seconds.\n",
      "\n",
      "('status: optimal',)\n",
      "('optimal value: 8.57235967686e-05',)\n"
     ]
    },
    {
     "data": {
      "image/png": "[encoded data removed]",
      "text/plain": [
       "<matplotlib.figure.Figure at 0x10ec97110>"
      ]
     },
     "metadata": {},
     "output_type": "display_data"
    }
   ],
   "source": [
    "# Solve without slacks using a single pass\n",
    "cs.plan(solver = \"ECOS\", dvh_slack = False)\n",
    "p.plot(cs)"
   ]
  },
  {
   "cell_type": "code",
   "execution_count": 8,
   "metadata": {
    "collapsed": false
   },
   "outputs": [
    {
     "name": "stdout",
     "output_type": "stream",
     "text": [
      "('running solver...',)\n",
      "\n",
      "ECOS 2.0.4 - (C) embotech GmbH, Zurich Switzerland, 2012-15. Web: www.embotech.com/ECOS\n",
      "\n",
      "It     pcost       dcost      gap   pres   dres    k/t    mu     step   sigma     IR    |   BT\n",
      " 0  +5.090e+01  -6.378e+02  +5e+03  8e-01  1e+01  1e+00  3e+00    ---    ---    1  1  - |  -  - \n",
      " 1  +1.839e+02  -6.443e+04  +5e+03  6e+01  1e+03  3e+02  3e+00  0.1943  7e-01   1  0  1 |  0  0\n",
      " 2  +3.012e+01  -2.886e+02  +4e+03  3e-01  6e+00  2e+01  3e+00  0.4706  8e-01   0  0  0 |  0  0\n",
      " 3  +4.822e+01  -1.938e+01  +1e+03  5e-02  1e+00  3e+00  8e-01  0.7171  3e-02   0  0  0 |  0  0\n",
      " 4  +5.143e+01  +3.952e+01  +4e+02  7e-03  2e-01  5e-01  3e-01  0.7978  1e-01   0  0  0 |  0  0\n",
      " 5  +5.237e+01  +5.111e+01  +8e+01  7e-04  2e-02  2e-03  5e-02  0.8703  7e-02   1  0  0 |  0  0\n",
      " 6  +5.252e+01  +5.240e+01  +8e+00  6e-05  2e-03  4e-04  5e-03  0.9039  6e-03   1  1  1 |  0  0\n",
      " 7  +5.250e+01  +5.246e+01  +2e+00  2e-05  7e-04  2e-04  1e-03  0.9890  2e-01   1  1  1 |  0  0\n",
      " 8  +5.250e+01  +5.250e+01  +3e-02  4e-07  1e-05  7e-06  2e-05  0.9822  2e-04   1  1  1 |  0  0\n",
      "\n",
      "OPTIMAL (within feastol=1.4e-05, reltol=5.5e-04, abstol=2.9e-02).\n",
      "Runtime: 0.733306 seconds.\n",
      "\n",
      "('status: optimal',)\n",
      "('optimal value: 8.57235967686e-05',)\n",
      "('running solver...',)\n",
      "\n",
      "ECOS 2.0.4 - (C) embotech GmbH, Zurich Switzerland, 2012-15. Web: www.embotech.com/ECOS\n",
      "\n",
      "It     pcost       dcost      gap   pres   dres    k/t    mu     step   sigma     IR    |   BT\n",
      " 0  +5.090e+01  -6.378e+02  +5e+03  8e-01  1e+01  1e+00  3e+00    ---    ---    1  1  - |  -  - \n",
      " 1  +1.839e+02  -6.443e+04  +5e+03  6e+01  1e+03  3e+02  3e+00  0.1943  7e-01   1  0  1 |  0  0\n",
      " 2  +3.012e+01  -2.886e+02  +4e+03  3e-01  6e+00  2e+01  3e+00  0.4706  8e-01   0  0  0 |  0  0\n",
      " 3  +4.822e+01  -1.938e+01  +1e+03  5e-02  1e+00  3e+00  8e-01  0.7171  3e-02   0  0  0 |  0  0\n",
      " 4  +5.143e+01  +3.952e+01  +4e+02  7e-03  2e-01  5e-01  3e-01  0.7978  1e-01   0  0  0 |  0  0\n",
      " 5  +5.237e+01  +5.111e+01  +8e+01  7e-04  2e-02  2e-03  5e-02  0.8703  7e-02   1  0  0 |  0  0\n",
      " 6  +5.252e+01  +5.240e+01  +8e+00  6e-05  2e-03  4e-04  5e-03  0.9039  6e-03   1  1  1 |  0  0\n",
      " 7  +5.250e+01  +5.246e+01  +2e+00  2e-05  7e-04  2e-04  1e-03  0.9890  2e-01   1  1  1 |  0  0\n",
      " 8  +5.250e+01  +5.250e+01  +3e-02  4e-07  1e-05  7e-06  2e-05  0.9822  2e-04   1  1  1 |  0  0\n",
      "\n",
      "OPTIMAL (within feastol=1.4e-05, reltol=5.5e-04, abstol=2.9e-02).\n",
      "Runtime: 0.512633 seconds.\n",
      "\n",
      "('status: optimal',)\n",
      "('optimal value: 8.57235967686e-05',)\n"
     ]
    },
    {
     "data": {
      "image/png": "[encoded data removed]",
      "text/plain": [
       "<matplotlib.figure.Figure at 0x11118c450>"
      ]
     },
     "metadata": {},
     "output_type": "display_data"
    }
   ],
   "source": [
    "# Solve without slacks using 2 passes\n",
    "cs.plan(solver = \"ECOS\", dvh_slack = False, dvh_exact = True)\n",
    "p.plot(cs)"
   ]
  },
  {
   "cell_type": "code",
   "execution_count": 9,
   "metadata": {
    "collapsed": false
   },
   "outputs": [],
   "source": [
    "# Additional DVH constraint makes no-slack problem infeasible\n",
    "cs.structures[lab_oar].constraints += D(55) > 0.1"
   ]
  },
  {
   "cell_type": "code",
   "execution_count": 10,
   "metadata": {
    "collapsed": false
   },
   "outputs": [
    {
     "name": "stdout",
     "output_type": "stream",
     "text": [
      "('running solver...',)\n",
      "\n",
      "ECOS 2.0.4 - (C) embotech GmbH, Zurich Switzerland, 2012-15. Web: www.embotech.com/ECOS\n",
      "\n",
      "It     pcost       dcost      gap   pres   dres    k/t    mu     step   sigma     IR    |   BT\n",
      " 0  +4.875e+01  -6.963e+02  +1e+04  9e-01  2e+01  1e+00  5e+00    ---    ---    2  1  - |  -  - \n",
      " 1  +1.054e+03  -7.137e+04  +1e+04  7e+01  2e+03  2e+02  5e+00  0.1140  8e-01   1  0  1 |  0  0\n",
      " 2  +1.054e+01  -3.253e+02  +1e+04  4e-01  8e+00  5e+01  5e+00  0.1478  9e-01   0  0  0 |  0  0\n",
      " 3  +2.222e+01  -2.753e+02  +7e+03  3e-01  8e+00  6e+01  3e+00  0.6224  4e-01   1  0  0 |  0  0\n",
      " 4  +4.367e+01  -1.347e+02  +4e+03  1e-01  5e+00  3e+01  2e+00  0.5015  2e-01   0  0  0 |  0  0\n",
      " 5  +5.290e+01  -1.124e+01  +2e+03  4e-02  2e+00  5e+00  7e-01  0.6671  1e-01   0  0  0 |  0  0\n",
      " 6  +5.256e+01  +1.892e+01  +1e+03  2e-02  9e-01  2e+00  5e-01  0.4858  2e-01   0  0  0 |  0  0\n",
      " 7  +5.213e+01  +4.191e+01  +5e+02  6e-03  2e-01  2e-01  2e-01  0.8380  3e-01   0  0  0 |  0  0\n",
      " 8  +5.221e+01  +5.079e+01  +1e+02  9e-04  3e-02  2e-03  6e-02  0.7487  9e-02   0  0  0 |  0  0\n",
      " 9  +5.247e+01  +5.228e+01  +3e+01  9e-05  4e-03  4e-04  1e-02  0.8444  8e-02   1  1  1 |  0  0\n",
      "10  +5.250e+01  +5.245e+01  +9e+00  2e-05  1e-03  8e-05  4e-03  0.9890  3e-01   1  1  1 |  0  0\n",
      "11  +5.250e+01  +5.250e+01  +1e+00  2e-06  1e-04  1e-05  4e-04  0.8949  1e-03   1  1  1 |  0  0\n",
      "12  +5.250e+01  +5.250e+01  +6e-02  1e-07  7e-06  3e-07  2e-05  0.9819  4e-02   1  1  1 |  0  0\n",
      "13  +5.250e+01  +5.250e+01  +6e-04  1e-09  8e-08  4e-09  3e-07  0.9890  1e-04   1  1  1 |  0  0\n",
      "\n",
      "OPTIMAL (within feastol=7.7e-08, reltol=1.2e-05, abstol=6.5e-04).\n",
      "Runtime: 0.816198 seconds.\n",
      "\n",
      "('status: optimal',)\n",
      "('optimal value: -1.10723462399e-07',)\n"
     ]
    },
    {
     "data": {
      "text/plain": [
       "True"
      ]
     },
     "execution_count": 10,
     "metadata": {},
     "output_type": "execute_result"
    }
   ],
   "source": [
    "# Solving without slacks will result in infeasibility\n",
    "cs.plan(solver = \"ECOS\", dvh_slack = False)"
   ]
  },
  {
   "cell_type": "code",
   "execution_count": 11,
   "metadata": {
    "collapsed": false
   },
   "outputs": [
    {
     "name": "stdout",
     "output_type": "stream",
     "text": [
      "('running solver...',)\n",
      "\n",
      "ECOS 2.0.4 - (C) embotech GmbH, Zurich Switzerland, 2012-15. Web: www.embotech.com/ECOS\n",
      "\n",
      "It     pcost       dcost      gap   pres   dres    k/t    mu     step   sigma     IR    |   BT\n",
      " 0  +4.875e+01  -6.963e+02  +1e+04  9e-01  2e+01  1e+00  5e+00    ---    ---    2  1  - |  -  - \n",
      " 1  +1.054e+03  -7.137e+04  +1e+04  7e+01  2e+03  2e+02  5e+00  0.1140  8e-01   1  0  1 |  0  0\n",
      " 2  +1.054e+01  -3.253e+02  +1e+04  4e-01  8e+00  5e+01  5e+00  0.1478  9e-01   0  0  0 |  0  0\n",
      " 3  +2.222e+01  -2.753e+02  +7e+03  3e-01  8e+00  6e+01  3e+00  0.6224  4e-01   1  0  0 |  0  0\n",
      " 4  +4.367e+01  -1.347e+02  +4e+03  1e-01  5e+00  3e+01  2e+00  0.5015  2e-01   0  0  0 |  0  0\n",
      " 5  +5.290e+01  -1.124e+01  +2e+03  4e-02  2e+00  5e+00  7e-01  0.6671  1e-01   0  0  0 |  0  0\n",
      " 6  +5.256e+01  +1.892e+01  +1e+03  2e-02  9e-01  2e+00  5e-01  0.4858  2e-01   0  0  0 |  0  0\n",
      " 7  +5.213e+01  +4.191e+01  +5e+02  6e-03  2e-01  2e-01  2e-01  0.8380  3e-01   0  0  0 |  0  0\n",
      " 8  +5.221e+01  +5.079e+01  +1e+02  9e-04  3e-02  2e-03  6e-02  0.7487  9e-02   0  0  0 |  0  0\n",
      " 9  +5.247e+01  +5.228e+01  +3e+01  9e-05  4e-03  4e-04  1e-02  0.8444  8e-02   1  1  1 |  0  0\n",
      "10  +5.250e+01  +5.245e+01  +9e+00  2e-05  1e-03  8e-05  4e-03  0.9890  3e-01   1  1  1 |  0  0\n",
      "11  +5.250e+01  +5.250e+01  +1e+00  2e-06  1e-04  1e-05  4e-04  0.8949  1e-03   1  1  1 |  0  0\n",
      "12  +5.250e+01  +5.250e+01  +6e-02  1e-07  7e-06  3e-07  2e-05  0.9819  4e-02   1  1  1 |  0  0\n",
      "13  +5.250e+01  +5.250e+01  +6e-04  1e-09  8e-08  4e-09  3e-07  0.9890  1e-04   1  1  1 |  0  0\n",
      "\n",
      "OPTIMAL (within feastol=7.7e-08, reltol=1.2e-05, abstol=6.5e-04).\n",
      "Runtime: 0.790281 seconds.\n",
      "\n",
      "('status: optimal',)\n",
      "('optimal value: -1.10723462399e-07',)\n",
      "('running solver...',)\n",
      "\n",
      "ECOS 2.0.4 - (C) embotech GmbH, Zurich Switzerland, 2012-15. Web: www.embotech.com/ECOS\n",
      "\n",
      "It     pcost       dcost      gap   pres   dres    k/t    mu     step   sigma     IR    |   BT\n",
      " 0  +4.875e+01  -6.963e+02  +1e+04  9e-01  2e+01  1e+00  5e+00    ---    ---    2  1  - |  -  - \n",
      " 1  +1.054e+03  -7.137e+04  +1e+04  7e+01  2e+03  2e+02  5e+00  0.1140  8e-01   1  0  1 |  0  0\n",
      " 2  +1.054e+01  -3.253e+02  +1e+04  4e-01  8e+00  5e+01  5e+00  0.1478  9e-01   0  0  0 |  0  0\n",
      " 3  +2.222e+01  -2.753e+02  +7e+03  3e-01  8e+00  6e+01  3e+00  0.6224  4e-01   1  0  0 |  0  0\n",
      " 4  +4.367e+01  -1.347e+02  +4e+03  1e-01  5e+00  3e+01  2e+00  0.5015  2e-01   0  0  0 |  0  0\n",
      " 5  +5.290e+01  -1.124e+01  +2e+03  4e-02  2e+00  5e+00  7e-01  0.6671  1e-01   0  0  0 |  0  0\n",
      " 6  +5.256e+01  +1.892e+01  +1e+03  2e-02  9e-01  2e+00  5e-01  0.4858  2e-01   0  0  0 |  0  0\n",
      " 7  +5.213e+01  +4.191e+01  +5e+02  6e-03  2e-01  2e-01  2e-01  0.8380  3e-01   0  0  0 |  0  0\n",
      " 8  +5.221e+01  +5.079e+01  +1e+02  9e-04  3e-02  2e-03  6e-02  0.7487  9e-02   0  0  0 |  0  0\n",
      " 9  +5.247e+01  +5.228e+01  +3e+01  9e-05  4e-03  4e-04  1e-02  0.8444  8e-02   1  1  1 |  0  0\n",
      "10  +5.250e+01  +5.245e+01  +9e+00  2e-05  1e-03  8e-05  4e-03  0.9890  3e-01   1  1  1 |  0  0\n",
      "11  +5.250e+01  +5.250e+01  +1e+00  2e-06  1e-04  1e-05  4e-04  0.8949  1e-03   1  1  1 |  0  0\n",
      "12  +5.250e+01  +5.250e+01  +6e-02  1e-07  7e-06  3e-07  2e-05  0.9819  4e-02   1  1  1 |  0  0\n",
      "13  +5.250e+01  +5.250e+01  +6e-04  1e-09  8e-08  4e-09  3e-07  0.9890  1e-04   1  1  1 |  0  0\n",
      "\n",
      "OPTIMAL (within feastol=7.7e-08, reltol=1.2e-05, abstol=6.5e-04).\n",
      "Runtime: 0.846172 seconds.\n",
      "\n",
      "('status: optimal',)\n",
      "('optimal value: -1.10723462399e-07',)\n"
     ]
    },
    {
     "data": {
      "image/png": "[encoded data removed]",
      "text/plain": [
       "<matplotlib.figure.Figure at 0x111a46810>"
      ]
     },
     "metadata": {},
     "output_type": "display_data"
    }
   ],
   "source": [
    "# Solve with slacks using 2 passes\n",
    "cs.plan(solver = \"ECOS\", dvh_exact = True)\n",
    "p.plot(cs)"
   ]
  },
  {
   "cell_type": "code",
   "execution_count": null,
   "metadata": {
    "collapsed": true
   },
   "outputs": [],
   "source": []
  }
 ],
 "metadata": {
  "kernelspec": {
   "display_name": "Python 2",
   "language": "python",
   "name": "python2"
  },
  "language_info": {
   "codemirror_mode": {
    "name": "ipython",
    "version": 2
   },
   "file_extension": ".py",
   "mimetype": "text/x-python",
   "name": "python",
   "nbconvert_exporter": "python",
   "pygments_lexer": "ipython2",
   "version": "2.7.11"
  }
 },
 "nbformat": 4,
 "nbformat_minor": 0
}
