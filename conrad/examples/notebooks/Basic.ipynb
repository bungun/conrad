{
 "cells": [
  {
   "cell_type": "code",
   "execution_count": 2,
   "metadata": {
    "collapsed": false
   },
   "outputs": [
    {
     "ename": "ImportError",
     "evalue": "No module named conrad",
     "output_type": "error",
     "traceback": [
      "\u001b[1;31m---------------------------------------------------------------------------\u001b[0m",
      "\u001b[1;31mImportError\u001b[0m                               Traceback (most recent call last)",
      "\u001b[1;32m<ipython-input-2-e59e5b530905>\u001b[0m in \u001b[0;36m<module>\u001b[1;34m()\u001b[0m\n\u001b[0;32m      1\u001b[0m \u001b[1;32mimport\u001b[0m \u001b[0mnumpy\u001b[0m \u001b[1;32mas\u001b[0m \u001b[0mnp\u001b[0m\u001b[1;33m\u001b[0m\u001b[0m\n\u001b[0;32m      2\u001b[0m \u001b[1;32mimport\u001b[0m \u001b[0mcvxpy\u001b[0m\u001b[1;33m\u001b[0m\u001b[0m\n\u001b[1;32m----> 3\u001b[1;33m \u001b[1;32mimport\u001b[0m \u001b[0mconrad\u001b[0m\u001b[1;33m\u001b[0m\u001b[0m\n\u001b[0m\u001b[0;32m      4\u001b[0m \u001b[1;33m\u001b[0m\u001b[0m\n\u001b[0;32m      5\u001b[0m \u001b[1;32mfrom\u001b[0m \u001b[0mconrad\u001b[0m \u001b[1;32mimport\u001b[0m \u001b[0mCase\u001b[0m\u001b[1;33m\u001b[0m\u001b[0m\n",
      "\u001b[1;31mImportError\u001b[0m: No module named conrad"
     ]
    }
   ],
   "source": [
    "import numpy as np\n",
    "import cvxpy\n",
    "import conrad\n",
    "\n",
    "from conrad import Case"
   ]
  },
  {
   "cell_type": "code",
   "execution_count": 3,
   "metadata": {
    "collapsed": false
   },
   "outputs": [],
   "source": [
    "# Define dimensions of problem\n",
    "m_target = 100\n",
    "m_oar = 400\n",
    "m = m_target + m_oar\n",
    "n = 200\n",
    "\n",
    "# Structure labels\n",
    "lab_tum = 0\n",
    "lab_oar = 1\n",
    "\n",
    "# Generate random beam matrix\n",
    "A_target = np.random.rand(m_target, n)\n",
    "A_oar = 0.5 * np.random.rand(m_oar, n)\n",
    "A = np.vstack((A_target, A_oar))\n",
    "\n",
    "label_order = [lab_tum, lab_oar]\n",
    "voxel_labels = [lab_tum] * m_target + [lab_oar] * m_oar"
   ]
  },
  {
   "cell_type": "code",
   "execution_count": 3,
   "metadata": {
    "collapsed": true
   },
   "outputs": [],
   "source": [
    "# Prescription for each structure\n",
    "rx = [{'label': lab_tum, 'name': 'tumor', 'is_target': True,  'dose': 1., 'constraints': None},\n",
    "      {'label': lab_oar,  'name': 'oar',   'is_target': False, 'dose': 0., 'constraints': None}]"
   ]
  },
  {
   "cell_type": "code",
   "execution_count": 4,
   "metadata": {
    "collapsed": false
   },
   "outputs": [
    {
     "ename": "NameError",
     "evalue": "name 'Case' is not defined",
     "output_type": "error",
     "traceback": [
      "\u001b[1;31m---------------------------------------------------------------------------\u001b[0m",
      "\u001b[1;31mNameError\u001b[0m                                 Traceback (most recent call last)",
      "\u001b[1;32m<ipython-input-4-688ff406e794>\u001b[0m in \u001b[0;36m<module>\u001b[1;34m()\u001b[0m\n\u001b[0;32m      1\u001b[0m \u001b[1;31m# Construct and solve unconstrained case\u001b[0m\u001b[1;33m\u001b[0m\u001b[1;33m\u001b[0m\u001b[0m\n\u001b[1;32m----> 2\u001b[1;33m \u001b[0mcs\u001b[0m \u001b[1;33m=\u001b[0m \u001b[0mCase\u001b[0m\u001b[1;33m(\u001b[0m\u001b[0mA\u001b[0m\u001b[1;33m,\u001b[0m \u001b[0mvoxel_labels\u001b[0m\u001b[1;33m,\u001b[0m \u001b[0mlabel_order\u001b[0m\u001b[1;33m,\u001b[0m \u001b[0mrx\u001b[0m\u001b[1;33m)\u001b[0m\u001b[1;33m\u001b[0m\u001b[0m\n\u001b[0m\u001b[0;32m      3\u001b[0m \u001b[0mcs\u001b[0m\u001b[1;33m.\u001b[0m\u001b[0mplan\u001b[0m\u001b[1;33m(\u001b[0m\u001b[1;34m\"ECOS\"\u001b[0m\u001b[1;33m,\u001b[0m \u001b[0mverbose\u001b[0m \u001b[1;33m=\u001b[0m \u001b[1;36m1\u001b[0m\u001b[1;33m)\u001b[0m\u001b[1;33m\u001b[0m\u001b[0m\n",
      "\u001b[1;31mNameError\u001b[0m: name 'Case' is not defined"
     ]
    }
   ],
   "source": [
    "# Construct and solve unconstrained case\n",
    "cs = Case(A, voxel_labels, label_order, rx)\n",
    "cs.plan(\"ECOS\", \"dvh_no_slack\", plot = True, verbose = 1)"
   ]
  },
  {
   "cell_type": "code",
   "execution_count": 1,
   "metadata": {
    "collapsed": false
   },
   "outputs": [
    {
     "ename": "NameError",
     "evalue": "name 'cs' is not defined",
     "output_type": "error",
     "traceback": [
      "\u001b[1;31m---------------------------------------------------------------------------\u001b[0m",
      "\u001b[1;31mNameError\u001b[0m                                 Traceback (most recent call last)",
      "\u001b[1;32m<ipython-input-1-46475c453088>\u001b[0m in \u001b[0;36m<module>\u001b[1;34m()\u001b[0m\n\u001b[0;32m      1\u001b[0m \u001b[1;31m# Add DVH constraints and resolve case\u001b[0m\u001b[1;33m\u001b[0m\u001b[1;33m\u001b[0m\u001b[0m\n\u001b[1;32m----> 2\u001b[1;33m \u001b[0mcs\u001b[0m\u001b[1;33m.\u001b[0m\u001b[0madd_dvh_constraint\u001b[0m\u001b[1;33m(\u001b[0m\u001b[0mlab_tum\u001b[0m\u001b[1;33m,\u001b[0m \u001b[1;36m1.05\u001b[0m\u001b[1;33m,\u001b[0m \u001b[1;36m30.\u001b[0m\u001b[1;33m,\u001b[0m \u001b[1;34m'<'\u001b[0m\u001b[1;33m)\u001b[0m\u001b[1;33m\u001b[0m\u001b[0m\n\u001b[0m\u001b[0;32m      3\u001b[0m \u001b[0mcs\u001b[0m\u001b[1;33m.\u001b[0m\u001b[0madd_dvh_constraint\u001b[0m\u001b[1;33m(\u001b[0m\u001b[0mlab_tum\u001b[0m\u001b[1;33m,\u001b[0m \u001b[1;36m0.8\u001b[0m\u001b[1;33m,\u001b[0m \u001b[1;36m20.\u001b[0m\u001b[1;33m,\u001b[0m \u001b[1;34m'>'\u001b[0m\u001b[1;33m)\u001b[0m\u001b[1;33m\u001b[0m\u001b[0m\n\u001b[0;32m      4\u001b[0m \u001b[0mcs\u001b[0m\u001b[1;33m.\u001b[0m\u001b[0madd_dvh_constraint\u001b[0m\u001b[1;33m(\u001b[0m\u001b[0mlab_oar\u001b[0m\u001b[1;33m,\u001b[0m \u001b[1;36m0.5\u001b[0m\u001b[1;33m,\u001b[0m \u001b[1;36m50\u001b[0m\u001b[1;33m,\u001b[0m \u001b[1;34m'<'\u001b[0m\u001b[1;33m)\u001b[0m\u001b[1;33m\u001b[0m\u001b[0m\n\u001b[0;32m      5\u001b[0m \u001b[1;33m\u001b[0m\u001b[0m\n",
      "\u001b[1;31mNameError\u001b[0m: name 'cs' is not defined"
     ]
    }
   ],
   "source": [
    "# Add DVH constraints and resolve case\n",
    "cs.add_dvh_constraint(lab_tum, 1.05, 30., '<')\n",
    "cs.add_dvh_constraint(lab_tum, 0.8, 20., '>')\n",
    "cs.add_dvh_constraint(lab_oar, 0.5, 50, '<')\n",
    "\n",
    "# Solve without slacks using a single pass\n",
    "cs.plan(\"ECOS\", \"dvh_no_slack\", plot = True)\n",
    "\n",
    "# Solve without slacks using 2 passes\n",
    "cs.plan(\"ECOS\", \"dvh_no_slack\", \"dvh_2pass\", plot = True)"
   ]
  },
  {
   "cell_type": "code",
   "execution_count": null,
   "metadata": {
    "collapsed": true
   },
   "outputs": [],
   "source": [
    "# Additional DVH constraint makes no-slack problem infeasible\n",
    "cs.add_dvh_constraint(lab_oar, 0.55, 10, '>')\n",
    "\n",
    "# Solving without slacks will result in infeasibility\n",
    "# cs.plan(\"ECOS\")\n",
    "\n",
    "# Solve with slacks using a single pass\n",
    "cs.plan(\"ECOS\", plot = True)\n",
    "cs.plan(\"ECOS\", \"dvh_2pass\", plot = True)"
   ]
  }
 ],
 "metadata": {
  "kernelspec": {
   "display_name": "Python 2",
   "language": "python",
   "name": "python2"
  },
  "language_info": {
   "codemirror_mode": {
    "name": "ipython",
    "version": 2
   },
   "file_extension": ".py",
   "mimetype": "text/x-python",
   "name": "python",
   "nbconvert_exporter": "python",
   "pygments_lexer": "ipython2",
   "version": "2.7.10"
  }
 },
 "nbformat": 4,
 "nbformat_minor": 0
}
