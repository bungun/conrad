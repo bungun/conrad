{
 "cells": [
  {
   "cell_type": "code",
   "execution_count": 1,
   "metadata": {
    "collapsed": false
   },
   "outputs": [],
   "source": [
    "%load_ext autoreload\n",
    "%autoreload 2\n",
    "%matplotlib inline"
   ]
  },
  {
   "cell_type": "code",
   "execution_count": 2,
   "metadata": {
    "collapsed": false
   },
   "outputs": [
    {
     "name": "stdout",
     "output_type": "stream",
     "text": [
      "optkit backend set to cpu64\n"
     ]
    }
   ],
   "source": [
    "import numpy as np\n",
    "from conrad import *"
   ]
  },
  {
   "cell_type": "code",
   "execution_count": 3,
   "metadata": {
    "collapsed": false
   },
   "outputs": [],
   "source": [
    "# construct bare case\n",
    "case = Case()"
   ]
  },
  {
   "cell_type": "code",
   "execution_count": 4,
   "metadata": {
    "collapsed": true
   },
   "outputs": [],
   "source": [
    "# populate case anatomy\n",
    "# add structures using initialization Structure(label, name, is_target)\n",
    "case.anatomy += Structure(0, 'target', True)\n",
    "case.anatomy += Structure(1, 'avoid', False)"
   ]
  },
  {
   "cell_type": "code",
   "execution_count": 5,
   "metadata": {
    "collapsed": true
   },
   "outputs": [],
   "source": [
    "# populate case physics\n",
    "# generate random dose influence matrix, 1000 voxels x 200 beams\n",
    "case.physics.dose_matrix = np.random.rand(1000, 200)\n",
    "\n",
    "# randomly label voxels as 0 (tumor, ~20% of voxels) or 1 (avoid, ~80% of voxels) \n",
    "case.physics.voxel_labels = (np.random.rand(1000) > 0.2).astype(int)\n",
    "\n",
    "# doctor random dose matrix so that target voxels receive (on average) 3x radiation of non-target\n",
    "FACTOR = 3\n",
    "for i, label in enumerate(case.physics.voxel_labels):\n",
    "    if label == 0:\n",
    "        case.physics.dose_matrix[i, :] *= FACTOR"
   ]
  },
  {
   "cell_type": "code",
   "execution_count": 6,
   "metadata": {
    "collapsed": false
   },
   "outputs": [
    {
     "name": "stdout",
     "output_type": "stream",
     "text": [
      "('SOLVER CONVERGED?', True)\n"
     ]
    }
   ],
   "source": [
    "# solve case with no DVH constraints\n",
    "status, run = case.plan()\n",
    "\n",
    "# print status:\n",
    "print('SOLVER CONVERGED?', status)"
   ]
  },
  {
   "cell_type": "code",
   "execution_count": 7,
   "metadata": {
    "collapsed": false
   },
   "outputs": [
    {
     "data": {
      "image/png": "[encoded data removed]",
      "text/plain": [
       "<matplotlib.figure.Figure at 0x10ec7e790>"
      ]
     },
     "metadata": {},
     "output_type": "display_data"
    }
   ],
   "source": [
    "# plot output\n",
    "# initialize CasePlotter object\n",
    "graphics = CasePlotter(case)\n",
    "\n",
    "# plot data from run\n",
    "graphics.plot(run)"
   ]
  },
  {
   "cell_type": "code",
   "execution_count": null,
   "metadata": {
    "collapsed": true
   },
   "outputs": [],
   "source": []
  }
 ],
 "metadata": {
  "kernelspec": {
   "display_name": "Python 2",
   "language": "python",
   "name": "python2"
  },
  "language_info": {
   "codemirror_mode": {
    "name": "ipython",
    "version": 2
   },
   "file_extension": ".py",
   "mimetype": "text/x-python",
   "name": "python",
   "nbconvert_exporter": "python",
   "pygments_lexer": "ipython2",
   "version": "2.7.11"
  }
 },
 "nbformat": 4,
 "nbformat_minor": 0
}
