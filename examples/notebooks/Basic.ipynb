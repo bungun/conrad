{
 "cells": [
  {
   "cell_type": "code",
   "execution_count": 1,
   "metadata": {},
   "outputs": [],
   "source": [
    "%load_ext autoreload\n",
    "%autoreload 2\n",
    "%matplotlib inline"
   ]
  },
  {
   "cell_type": "code",
   "execution_count": 2,
   "metadata": {},
   "outputs": [
    {
     "ename": "ModuleNotFoundError",
     "evalue": "No module named 'conrad'",
     "output_type": "error",
     "traceback": [
      "\u001b[0;31m---------------------------------------------------------------------------\u001b[0m",
      "\u001b[0;31mModuleNotFoundError\u001b[0m                       Traceback (most recent call last)",
      "\u001b[0;32m<ipython-input-2-34a24ac80c79>\u001b[0m in \u001b[0;36m<module>\u001b[0;34m()\u001b[0m\n\u001b[1;32m      1\u001b[0m \u001b[0;32mimport\u001b[0m \u001b[0mnumpy\u001b[0m \u001b[0;32mas\u001b[0m \u001b[0mnp\u001b[0m\u001b[0;34m\u001b[0m\u001b[0m\n\u001b[0;32m----> 2\u001b[0;31m \u001b[0;32mfrom\u001b[0m \u001b[0mconrad\u001b[0m \u001b[0;32mimport\u001b[0m \u001b[0;34m*\u001b[0m\u001b[0;34m\u001b[0m\u001b[0m\n\u001b[0m",
      "\u001b[0;31mModuleNotFoundError\u001b[0m: No module named 'conrad'"
     ]
    }
   ],
   "source": [
    "import numpy as np\n",
    "from conrad import *"
   ]
  },
  {
   "cell_type": "code",
   "execution_count": null,
   "metadata": {},
   "outputs": [],
   "source": [
    "# construct bare case\n",
    "case = Case()"
   ]
  },
  {
   "cell_type": "code",
   "execution_count": null,
   "metadata": {
    "collapsed": true
   },
   "outputs": [],
   "source": [
    "# populate case anatomy\n",
    "# add structures using initialization Structure(label, name, is_target)\n",
    "case.anatomy += Structure(0, 'target', True)\n",
    "case.anatomy += Structure(1, 'avoid', False)"
   ]
  },
  {
   "cell_type": "code",
   "execution_count": null,
   "metadata": {
    "collapsed": true
   },
   "outputs": [],
   "source": [
    "# populate case physics\n",
    "# generate random dose influence matrix, 1000 voxels x 200 beams\n",
    "case.physics.dose_matrix = np.random.rand(1000, 200)\n",
    "\n",
    "# randomly label voxels as 0 (tumor, ~20% of voxels) or 1 (avoid, ~80% of voxels) \n",
    "case.physics.voxel_labels = (np.random.rand(1000) > 0.2).astype(int)\n",
    "\n",
    "# doctor random dose matrix so that target voxels receive (on average) 3x radiation of non-target\n",
    "FACTOR = 3\n",
    "for i, label in enumerate(case.physics.voxel_labels):\n",
    "    if label == 0:\n",
    "        case.physics.dose_matrix[i, :] *= FACTOR"
   ]
  },
  {
   "cell_type": "code",
   "execution_count": null,
   "metadata": {},
   "outputs": [],
   "source": [
    "# solve case with no DVH constraints\n",
    "status, run = case.plan()\n",
    "\n",
    "# print status:\n",
    "print('SOLVER CONVERGED?', status)"
   ]
  },
  {
   "cell_type": "code",
   "execution_count": null,
   "metadata": {},
   "outputs": [],
   "source": [
    "# plot output\n",
    "# initialize CasePlotter object\n",
    "graphics = CasePlotter(case)\n",
    "\n",
    "# plot data from run\n",
    "graphics.plot(run)"
   ]
  },
  {
   "cell_type": "code",
   "execution_count": null,
   "metadata": {
    "collapsed": true
   },
   "outputs": [],
   "source": []
  }
 ],
 "metadata": {
  "kernelspec": {
   "display_name": "Python 3",
   "language": "python",
   "name": "python3"
  },
  "language_info": {
   "codemirror_mode": {
    "name": "ipython",
    "version": 3
   },
   "file_extension": ".py",
   "mimetype": "text/x-python",
   "name": "python",
   "nbconvert_exporter": "python",
   "pygments_lexer": "ipython3",
   "version": "3.6.5"
  }
 },
 "nbformat": 4,
 "nbformat_minor": 1
}
