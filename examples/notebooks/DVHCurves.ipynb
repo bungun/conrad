{
 "cells": [
  {
   "cell_type": "code",
   "execution_count": 1,
   "metadata": {
    "collapsed": false
   },
   "outputs": [],
   "source": [
    "%load_ext autoreload\n",
    "%autoreload 2\n",
    "%matplotlib inline"
   ]
  },
  {
   "cell_type": "code",
   "execution_count": 2,
   "metadata": {
    "collapsed": true
   },
   "outputs": [],
   "source": [
    "import conrad\n",
    "import cvxpy\n",
    "import numpy as np\n",
    "import matplotlib\n",
    "\n",
    "from matplotlib import pyplot as plt\n",
    "from conrad import Case, CasePlotter, D\n",
    "from os import path"
   ]
  },
  {
   "cell_type": "code",
   "execution_count": 3,
   "metadata": {
    "collapsed": true
   },
   "outputs": [],
   "source": [
    "dirpath = '/home/anqi/Documents/Papers/conrad_paper/figures/'\n",
    "\n",
    "def cross_percentile(data, dose):\n",
    "    idx = (np.abs(data['curve']['dose'] - dose)).argmin()\n",
    "    return data['curve']['percentile'][idx]\n",
    "\n",
    "def plot_data(data, title=None, color='blue', label='organ', show=True, plotfile=None):\n",
    "    max_dose = data['curve']['dose'].max()\n",
    "    plt.plot(data['curve']['dose'], data['curve']['percentile'], color=color, label=label)\n",
    "    if title is not None: plt.title(title)\n",
    "    for constraint in data['constraints']:\n",
    "        if constraint[1]['type'] is 'percentile':\n",
    "            plt.plot(constraint[1]['dose'][0], constraint[1]['percentile'][0], constraint[1]['symbol'], label='_nolegend_', alpha=0.55, color=color, markersize=12)\n",
    "            plt.plot(constraint[1]['dose'][1], constraint[1]['percentile'][1], constraint[1]['symbol'], label='_nolegend_', color=color, markersize=12)\n",
    "            \n",
    "            xline = constraint[1]['dose'][0]\n",
    "            yline = constraint[1]['percentile'][0]\n",
    "            ycross = cross_percentile(data, xline)\n",
    "            \n",
    "            plt.axvline(x=xline, ymin=0, ymax=max(yline, ycross)/103.0, linewidth=1, color='black', linestyle='dotted', label='_nolegend_')\n",
    "            plt.axhline(y=yline, xmin=0, xmax=xline/(1.1 * max_dose), linewidth=1, color='black', linestyle='dotted', label='_nolegend_')\n",
    "            plt.axhline(y=ycross, xmin=0, xmax=xline/(1.1 * max_dose), linewidth=1, color='black', linestyle='dotted', label='_nolegend_')\n",
    "        max_dose = max(max_dose, constraint[1]['dose'][0])\n",
    "    plt.xlim(0, 1.1 * max_dose)\n",
    "    plt.ylim(0, 103)\n",
    "     \n",
    "    if plotfile is not None:\n",
    "        filepath = path.abspath(dirpath + plotfile)\n",
    "        plt.savefig(filepath, bbox_inches = 'tight')\n",
    "    if show: plt.show()"
   ]
  },
  {
   "cell_type": "code",
   "execution_count": 4,
   "metadata": {
    "collapsed": true
   },
   "outputs": [],
   "source": [
    "# Define dimensions of problem\n",
    "m_target = 100\n",
    "m_oar = 400\n",
    "m = m_target + m_oar\n",
    "n = 200\n",
    "\n",
    "# Structure labels\n",
    "lab_tum = 0\n",
    "lab_oar = 1\n",
    "\n",
    "# Generate random beam matrix\n",
    "A_target = 1.2 * np.random.rand(m_target, n)\n",
    "A_oar = 0.3 * np.random.rand(m_oar, n)\n",
    "A = np.vstack((A_target, A_oar))\n",
    "\n",
    "label_order = [lab_tum, lab_oar]\n",
    "voxel_labels = [lab_tum] * m_target + [lab_oar] * m_oar"
   ]
  },
  {
   "cell_type": "code",
   "execution_count": 5,
   "metadata": {
    "collapsed": true
   },
   "outputs": [],
   "source": [
    "# Prescription for each structure\n",
    "rx = [{'label': lab_tum, 'name': 'tumor', 'is_target': True,  'dose': 1., 'constraints': None},\n",
    "      {'label': lab_oar, 'name': 'oar',   'is_target': False, 'dose': 0., 'constraints': None}]"
   ]
  },
  {
   "cell_type": "code",
   "execution_count": 68,
   "metadata": {
    "collapsed": false
   },
   "outputs": [
    {
     "data": {
      "text/plain": [
       "<matplotlib.figure.Figure at 0x7fb8a1505cd0>"
      ]
     },
     "metadata": {},
     "output_type": "display_data"
    }
   ],
   "source": [
    "# Construct and a case with DVH constraints\n",
    "cs = Case(A, voxel_labels, label_order, rx)\n",
    "cs.structures[lab_tum].constraints += D(80) >= 0.85\n",
    "cs.structures[lab_oar].constraints += D(30) <= 0.23\n",
    "p = CasePlotter(cs)"
   ]
  },
  {
   "cell_type": "code",
   "execution_count": 69,
   "metadata": {
    "collapsed": false
   },
   "outputs": [
    {
     "name": "stdout",
     "output_type": "stream",
     "text": [
      "\n",
      " SolverCVXPY.BUILD CALL: EXACT= False\n",
      "(100, 200)\n",
      "(100, 200)\n",
      "(400, 200)\n",
      "(400, 200)\n",
      "\n",
      " SolverCVXPY.__ADD_CONSTRAINTS CALL: EXACT= False\n",
      "\n",
      " SolverCVXPY.__ADD_CONSTRAINTS CALL: RESTRICTION BRANCH\n",
      "\n",
      "ADDING RESTRICTED CONSTRAINT\n",
      "sum_entries(max_elemwise(var292 + -1 * [[ 1.05551317  1.01667415  0.01083941 ...,  0.75355439  0.55213405\n",
      "   0.06706248]\n",
      " [ 0.19546014  0.83562345  0.24596436 ...,  1.16944015  0.87944938\n",
      "   0.14171703]\n",
      " [ 0.69572951  0.23650627  0.68804409 ...,  0.97262731  0.0495669\n",
      "   0.85334757]\n",
      " ..., \n",
      " [ 0.71498861  0.22032381  1.1510956  ...,  0.77915445  0.91152941\n",
      "   1.19563323]\n",
      " [ 0.57852521  0.98025543  0.37935439 ...,  0.70422108  0.83197882\n",
      "   0.20779554]\n",
      " [ 0.77004555  0.67648347  0.67509031 ...,  0.25842446  0.99826449\n",
      "   0.82866838]] * var289 + -0.85, 0)) <= 20.0 * var292\n",
      "\n",
      " SolverCVXPY.__ADD_CONSTRAINTS CALL: EXACT= False\n",
      "\n",
      " SolverCVXPY.__ADD_CONSTRAINTS CALL: RESTRICTION BRANCH\n",
      "\n",
      "ADDING RESTRICTED CONSTRAINT\n",
      "sum_entries(max_elemwise(var297 + 1 * [[ 0.02446533  0.10332455  0.09815971 ...,  0.15418095  0.06071329\n",
      "   0.18433769]\n",
      " [ 0.05355389  0.19159604  0.26320793 ...,  0.2503666   0.17449791\n",
      "   0.02031437]\n",
      " [ 0.14449214  0.11761721  0.21454203 ...,  0.15255609  0.09023187\n",
      "   0.23584262]\n",
      " ..., \n",
      " [ 0.23478209  0.28271712  0.24640547 ...,  0.29692675  0.08431027\n",
      "   0.06184169]\n",
      " [ 0.04553644  0.13771398  0.11210998 ...,  0.15650439  0.23195249\n",
      "   0.09537617]\n",
      " [ 0.23786418  0.14575016  0.20606549 ...,  0.22321871  0.2929783\n",
      "   0.18675147]] * var289 + -0.23, 0)) <= 120.0 * var297\n",
      "\n",
      "PROBLEM CONSTRUCTION:\n",
      "structure tumor (label = 0): using dose matrix, dimensions 100x200 (reason: structure is target)\n",
      "structure oar (label = 1): using dose matrix, dimensions 400x200 (reason: structure has min/max/percentile dose constraints)\n",
      "('running solver...',)\n",
      "\n",
      "ECOS 2.0.4 - (C) embotech GmbH, Zurich Switzerland, 2012-15. Web: www.embotech.com/ECOS\n",
      "\n",
      "It     pcost       dcost      gap   pres   dres    k/t    mu     step   sigma     IR    |   BT\n",
      " 0  -4.169e-01  -1.466e+01  +3e+03  8e-01  2e+00  1e+00  1e+00    ---    ---    2  1  - |  -  - \n",
      " 1  -3.788e-01  -7.340e+00  +3e+03  3e-01  8e-01  3e-01  1e+00  0.2674  7e-01   1  0  0 |  0  0\n",
      " 2  -1.909e-01  -2.108e+00  +9e+02  1e-01  3e-01  1e-01  4e-01  0.7987  2e-01   1  0  1 |  0  0\n",
      " 3  -1.277e-01  -6.752e-01  +3e+02  3e-02  8e-02  3e-02  1e-01  0.8399  1e-01   1  1  1 |  0  0\n",
      " 4  -1.696e-01  -6.162e-01  +3e+02  2e-02  7e-02  2e-02  1e-01  0.1372  7e-01   1  1  1 |  0  0\n",
      " 5  -2.939e-01  -4.289e-01  +2e+02  5e-03  3e-02  8e-03  7e-02  0.9403  6e-01   1  1  1 |  0  0\n",
      " 6  -3.221e-01  -3.890e-01  +1e+02  2e-03  2e-02  4e-03  4e-02  0.4503  2e-01   1  1  1 |  0  0\n",
      " 7  -3.518e-01  -3.698e-01  +3e+01  5e-04  6e-03  6e-04  2e-02  0.8940  3e-01   1  1  1 |  0  0\n",
      " 8  -3.705e-01  -3.804e-01  +2e+01  2e-04  4e-03  3e-04  9e-03  0.6085  3e-01   1  0  1 |  0  0\n",
      " 9  -3.852e-01  -3.891e-01  +8e+00  9e-05  2e-03  7e-05  4e-03  0.8713  3e-01   1  0  1 |  0  0\n",
      "10  -3.892e-01  -3.914e-01  +5e+00  5e-05  1e-03  3e-05  2e-03  0.6625  4e-01   1  0  1 |  0  0\n",
      "11  -3.933e-01  -3.942e-01  +2e+00  2e-05  4e-04  1e-05  1e-03  0.6265  1e-01   1  0  1 |  0  0\n",
      "12  -3.946e-01  -3.951e-01  +1e+00  1e-05  3e-04  6e-06  6e-04  0.5362  3e-01   1  1  1 |  0  0\n",
      "13  -3.954e-01  -3.957e-01  +8e-01  7e-06  2e-04  3e-06  4e-04  0.7652  5e-01   1  1  1 |  0  0\n",
      "14  -3.962e-01  -3.964e-01  +4e-01  3e-06  7e-05  1e-06  2e-04  0.7691  3e-01   1  1  1 |  0  0\n",
      "15  -3.967e-01  -3.968e-01  +2e-01  1e-06  3e-05  5e-07  8e-05  0.6822  2e-01   1  1  1 |  0  0\n",
      "16  -3.969e-01  -3.970e-01  +5e-02  4e-07  9e-06  2e-07  2e-05  0.7700  1e-01   1  1  1 |  0  0\n",
      "17  -3.970e-01  -3.970e-01  +2e-02  1e-07  3e-06  4e-08  8e-06  0.9164  3e-01   1  1  1 |  0  0\n",
      "18  -3.971e-01  -3.971e-01  +6e-03  5e-08  1e-06  1e-08  3e-06  0.7829  2e-01   1  1  1 |  0  0\n",
      "19  -3.971e-01  -3.971e-01  +9e-04  7e-09  2e-07  2e-09  4e-07  0.8570  1e-02   1  1  1 |  0  0\n",
      "20  -3.971e-01  -3.971e-01  +3e-04  2e-09  5e-08  8e-10  1e-07  0.8382  2e-01   1  1  1 |  0  0\n",
      "\n",
      "OPTIMAL (within feastol=5.3e-08, reltol=7.9e-04, abstol=3.1e-04).\n",
      "Runtime: 0.978248 seconds.\n",
      "\n",
      "('status: optimal',)\n",
      "('optimal value: 0.0779331123408',)\n",
      "ARG XMAX None\n",
      "XLIM_UPPER 1.18579223982\n"
     ]
    },
    {
     "data": {
      "image/png": "[encoded data removed]",
      "text/plain": [
       "<matplotlib.figure.Figure at 0x7fb8a2659090>"
      ]
     },
     "metadata": {},
     "output_type": "display_data"
    }
   ],
   "source": [
    "# Solve without slacks using a single pass\n",
    "cs.plan(solver = \"ECOS\", dvh_slack = False, dvh_2pass = False)\n",
    "p.set_display_groups(grouping = 'separate')\n",
    "p.plot(cs)"
   ]
  },
  {
   "cell_type": "code",
   "execution_count": 88,
   "metadata": {
    "collapsed": false
   },
   "outputs": [
    {
     "data": {
      "image/png": "[encoded data removed]",
      "text/plain": [
       "<matplotlib.figure.Figure at 0x7fb8a3b7f750>"
      ]
     },
     "metadata": {},
     "output_type": "display_data"
    }
   ],
   "source": [
    "plt.figure(figsize = (4.8,6))\n",
    "plt.subplot(2,1,1)\n",
    "plot_data(cs.plotting_data[0], title = 'DVH Curve for Planning Target Volume', color = 'red', label = 'ptv', show = False)\n",
    "plt.subplot(2,1,2)\n",
    "plt.tight_layout(h_pad=3.0)\n",
    "plot_data(cs.plotting_data[1], title = 'DVH Curve for Organ at Risk', color = 'blue', label = 'oar', show = True)"
   ]
  },
  {
   "cell_type": "code",
   "execution_count": null,
   "metadata": {
    "collapsed": true
   },
   "outputs": [],
   "source": []
  }
 ],
 "metadata": {
  "kernelspec": {
   "display_name": "Python 2",
   "language": "python",
   "name": "python2"
  },
  "language_info": {
   "codemirror_mode": {
    "name": "ipython",
    "version": 2
   },
   "file_extension": ".py",
   "mimetype": "text/x-python",
   "name": "python",
   "nbconvert_exporter": "python",
   "pygments_lexer": "ipython2",
   "version": "2.7.10"
  }
 },
 "nbformat": 4,
 "nbformat_minor": 0
}
