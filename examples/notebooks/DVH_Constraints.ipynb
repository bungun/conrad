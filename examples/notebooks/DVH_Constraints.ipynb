{
 "cells": [
  {
   "cell_type": "code",
   "execution_count": 1,
   "metadata": {
    "collapsed": true
   },
   "outputs": [],
   "source": [
    "%load_ext autoreload\n",
    "%autoreload 2\n",
    "%matplotlib inline"
   ]
  },
  {
   "cell_type": "code",
   "execution_count": 2,
   "metadata": {},
   "outputs": [
    {
     "name": "stdout",
     "output_type": "stream",
     "text": [
      "optkit backend set to cpu64\n"
     ]
    }
   ],
   "source": [
    "import numpy as np\n",
    "from conrad import *"
   ]
  },
  {
   "cell_type": "code",
   "execution_count": 4,
   "metadata": {},
   "outputs": [
    {
     "data": {
      "text/plain": [
       "<matplotlib.figure.Figure at 0x10ed4e710>"
      ]
     },
     "metadata": {},
     "output_type": "display_data"
    }
   ],
   "source": [
    "# dimensions\n",
    "voxels = 1000\n",
    "beams = 200\n",
    "\n",
    "# voxel labels\n",
    "labels = (np.random.rand(voxels) > 0.2).astype(int)\n",
    "\n",
    "# dose matrix with target voxels receiving ~3x radiation of non-target voxels\n",
    "# label 0 = TUMOR, label 1 = OAR\n",
    "A = np.random.rand(voxels, beams)\n",
    "FACTOR = 3\n",
    "for i, label in enumerate(labels):\n",
    "    if label == 0:\n",
    "        A[i, :] *= FACTOR\n",
    "        \n",
    "# construct case\n",
    "case = Case()\n",
    "case.anatomy = Anatomy([Structure(0, 'TUMOR', True), Structure(1, 'OAR', False)])\n",
    "case.physics = Physics(dose_matrix=A, voxel_labels=labels)\n",
    "\n",
    "\n",
    "# initialize CasePlotter object\n",
    "graphics = CasePlotter(case)"
   ]
  },
  {
   "cell_type": "code",
   "execution_count": 5,
   "metadata": {
    "collapsed": true
   },
   "outputs": [],
   "source": [
    "# add DVH constraints\n",
    "case.anatomy['TUMOR'].constraints += D(15) < 1.05 * Gy\n",
    "case.anatomy['TUMOR'].constraints += D(85) > 0.9 * Gy\n",
    "case.anatomy['OAR'].constraints += D(50) < 0.4 * Gy"
   ]
  },
  {
   "cell_type": "code",
   "execution_count": 6,
   "metadata": {},
   "outputs": [
    {
     "name": "stdout",
     "output_type": "stream",
     "text": [
      "('running solver...',)\n",
      "----------------------------------------------------------------------------\n",
      "\tSCS v1.2.6 - Splitting Conic Solver\n",
      "\t(c) Brendan O'Donoghue, Stanford University, 2012-2016\n",
      "----------------------------------------------------------------------------\n",
      "Lin-sys: sparse-direct, nnz in A = 644354\n",
      "eps = 1.00e-03, alpha = 1.50, max_iters = 2000, normalize = 1, scale = 1.00\n",
      "Variables n = 2390, constraints m = 4580\n",
      "Cones:\tlinear vars: 4580\n",
      "Setup time: 2.80e-01s\n",
      "----------------------------------------------------------------------------\n",
      " Iter | pri res | dua res | rel gap | pri obj | dua obj | kap/tau | time (s)\n",
      "----------------------------------------------------------------------------\n",
      "     0| 3.05e+00  5.19e-01  7.20e-01 -7.24e-01  1.84e+00  1.46e-15  1.16e-02 \n",
      "   100| 1.27e-03  3.12e-03  5.65e-04 -4.64e-01 -4.65e-01  4.24e-16  3.04e-01 \n",
      "   140| 9.17e-04  7.31e-04  6.24e-04 -4.64e-01 -4.66e-01  1.26e-15  4.20e-01 \n",
      "----------------------------------------------------------------------------\n",
      "Status: Solved\n",
      "Timing: Solve time: 4.20e-01s\n",
      "\tLin-sys: nnz in L factor: 873611, avg solve time: 2.78e-03s\n",
      "\tCones: avg projection time: 8.42e-06s\n",
      "----------------------------------------------------------------------------\n",
      "Error metrics:\n",
      "dist(s, K) = 1.5251e-16, dist(y, K*) = 0.0000e+00, s'y/|s||y| = 1.8973e-20\n",
      "|Ax + s - b|_2 / (1 + |b|_2) = 9.1719e-04\n",
      "|A'y + c|_2 / (1 + |c|_2) = 7.3110e-04\n",
      "|c'x + b'y| / (1 + |c'x| + |b'y|) = 6.2429e-04\n",
      "----------------------------------------------------------------------------\n",
      "c'x = -0.4644, -b'y = -0.4656\n",
      "============================================================================\n",
      "('status: optimal',)\n",
      "('optimal value: 0.0106055647196',)\n",
      "('SOLVER CONVERGED?', True)\n"
     ]
    },
    {
     "data": {
      "image/png": "[encoded data removed]",
      "text/plain": [
       "<matplotlib.figure.Figure at 0x1113891d0>"
      ]
     },
     "metadata": {},
     "output_type": "display_data"
    }
   ],
   "source": [
    "# solve: WITHOUT slack, ONE pass (restricted DVH constraints)\n",
    "status, run = case.plan(use_slack=False)\n",
    "print('SOLVER CONVERGED?', status)\n",
    "graphics.plot(run)"
   ]
  },
  {
   "cell_type": "code",
   "execution_count": 7,
   "metadata": {},
   "outputs": [
    {
     "name": "stdout",
     "output_type": "stream",
     "text": [
      "('running solver...',)\n",
      "----------------------------------------------------------------------------\n",
      "\tSCS v1.2.6 - Splitting Conic Solver\n",
      "\t(c) Brendan O'Donoghue, Stanford University, 2012-2016\n",
      "----------------------------------------------------------------------------\n",
      "Lin-sys: sparse-direct, nnz in A = 644354\n",
      "eps = 1.00e-03, alpha = 1.50, max_iters = 2000, normalize = 1, scale = 1.00\n",
      "Variables n = 2390, constraints m = 4580\n",
      "Cones:\tlinear vars: 4580\n",
      "Setup time: 2.96e-01s\n",
      "----------------------------------------------------------------------------\n",
      " Iter | pri res | dua res | rel gap | pri obj | dua obj | kap/tau | time (s)\n",
      "----------------------------------------------------------------------------\n",
      "     0| 3.05e+00  5.19e-01  7.20e-01 -7.24e-01  1.84e+00  1.46e-15  9.33e-03 \n",
      "   100| 1.27e-03  3.12e-03  5.65e-04 -4.64e-01 -4.65e-01  4.24e-16  2.91e-01 \n",
      "   140| 9.17e-04  7.31e-04  6.24e-04 -4.64e-01 -4.66e-01  1.26e-15  4.11e-01 \n",
      "----------------------------------------------------------------------------\n",
      "Status: Solved\n",
      "Timing: Solve time: 4.11e-01s\n",
      "\tLin-sys: nnz in L factor: 873611, avg solve time: 2.73e-03s\n",
      "\tCones: avg projection time: 8.02e-06s\n",
      "----------------------------------------------------------------------------\n",
      "Error metrics:\n",
      "dist(s, K) = 1.5251e-16, dist(y, K*) = 0.0000e+00, s'y/|s||y| = 1.8973e-20\n",
      "|Ax + s - b|_2 / (1 + |b|_2) = 9.1719e-04\n",
      "|A'y + c|_2 / (1 + |c|_2) = 7.3110e-04\n",
      "|c'x + b'y| / (1 + |c'x| + |b'y|) = 6.2429e-04\n",
      "----------------------------------------------------------------------------\n",
      "c'x = -0.4644, -b'y = -0.4656\n",
      "============================================================================\n",
      "('status: optimal',)\n",
      "('optimal value: 0.0106055647196',)\n",
      "('running solver...',)\n",
      "----------------------------------------------------------------------------\n",
      "\tSCS v1.2.6 - Splitting Conic Solver\n",
      "\t(c) Brendan O'Donoghue, Stanford University, 2012-2016\n",
      "----------------------------------------------------------------------------\n",
      "Lin-sys: sparse-direct, nnz in A = 547200\n",
      "eps = 1.00e-03, alpha = 1.50, max_iters = 2000, normalize = 1, scale = 1.00\n",
      "Variables n = 1200, constraints m = 2925\n",
      "Cones:\tlinear vars: 2925\n",
      "Setup time: 2.41e-01s\n",
      "----------------------------------------------------------------------------\n",
      " Iter | pri res | dua res | rel gap | pri obj | dua obj | kap/tau | time (s)\n",
      "----------------------------------------------------------------------------\n",
      "     0| 2.17e+00  6.70e+00  8.53e-01 -1.30e+00  4.49e+00  3.74e-15  8.44e-03 \n",
      "   100| 9.29e-04  3.97e-03  1.11e-03 -4.65e-01 -4.67e-01  3.10e-16  2.48e-01 \n",
      "   200| 3.02e-04  1.28e-03  4.15e-04 -4.65e-01 -4.66e-01  3.02e-16  4.97e-01 \n",
      "   240| 2.20e-04  8.68e-04  2.73e-04 -4.65e-01 -4.66e-01  3.01e-16  6.06e-01 \n",
      "----------------------------------------------------------------------------\n",
      "Status: Solved\n",
      "Timing: Solve time: 6.06e-01s\n",
      "\tLin-sys: nnz in L factor: 771225, avg solve time: 2.37e-03s\n",
      "\tCones: avg projection time: 5.26e-06s\n",
      "----------------------------------------------------------------------------\n",
      "Error metrics:\n",
      "dist(s, K) = 9.0100e-17, dist(y, K*) = 0.0000e+00, s'y/|s||y| = 9.0546e-19\n",
      "|Ax + s - b|_2 / (1 + |b|_2) = 2.1976e-04\n",
      "|A'y + c|_2 / (1 + |c|_2) = 8.6819e-04\n",
      "|c'x + b'y| / (1 + |c'x| + |b'y|) = 2.7293e-04\n",
      "----------------------------------------------------------------------------\n",
      "c'x = -0.4654, -b'y = -0.4660\n",
      "============================================================================\n",
      "('status: optimal',)\n",
      "('optimal value: 0.00956015845662',)\n",
      "('SOLVER CONVERGED?', True)\n"
     ]
    },
    {
     "data": {
      "image/png": "[encoded data removed]",
      "text/plain": [
       "<matplotlib.figure.Figure at 0x10eb6db50>"
      ]
     },
     "metadata": {},
     "output_type": "display_data"
    }
   ],
   "source": [
    "# solve: WITHOUT slack, TWO passes (exact DVH constraints)\n",
    "status, run = case.plan(use_slack=False, use_2pass=True)\n",
    "print('SOLVER CONVERGED?', status)\n",
    "graphics.plot(run, second_pass=True)"
   ]
  },
  {
   "cell_type": "code",
   "execution_count": 8,
   "metadata": {
    "collapsed": true
   },
   "outputs": [],
   "source": [
    "# additional DVH constraints makes no-slack problem infeasible\n",
    "case.anatomy['TUMOR'].constraints += D(99) > 0.99 * Gy\n",
    "case.anatomy['TUMOR'].constraints += D(1) < 1.01 * Gy"
   ]
  },
  {
   "cell_type": "code",
   "execution_count": 9,
   "metadata": {},
   "outputs": [
    {
     "name": "stdout",
     "output_type": "stream",
     "text": [
      "('running solver...',)\n",
      "----------------------------------------------------------------------------\n",
      "\tSCS v1.2.6 - Splitting Conic Solver\n",
      "\t(c) Brendan O'Donoghue, Stanford University, 2012-2016\n",
      "----------------------------------------------------------------------------\n",
      "Lin-sys: sparse-direct, nnz in A = 720654\n",
      "eps = 1.00e-03, alpha = 1.50, max_iters = 2000, normalize = 1, scale = 1.00\n",
      "Variables n = 2766, constraints m = 5332\n",
      "Cones:\tlinear vars: 5332\n",
      "Setup time: 3.16e-01s\n",
      "----------------------------------------------------------------------------\n",
      " Iter | pri res | dua res | rel gap | pri obj | dua obj | kap/tau | time (s)\n",
      "----------------------------------------------------------------------------\n",
      "     0| 2.45e+00  4.77e-01  7.33e-01 -8.24e-01  1.92e+00  1.41e-15  1.14e-02 \n",
      "   100| 4.67e-03  6.86e-03  3.03e-03 -4.58e-01 -4.52e-01  4.37e-16  3.26e-01 \n",
      "   200| 4.42e-03  1.51e-02  7.84e-03 -4.56e-01 -4.41e-01  5.23e-16  6.45e-01 \n",
      "   300| 4.91e-03  3.01e-02  1.67e-02 -4.52e-01 -4.20e-01  7.66e-16  9.69e-01 \n",
      "   400| 7.80e-03  8.95e-02  5.03e-02 -4.33e-01 -3.44e-01  4.72e-16  1.33e+00 \n",
      "   500|      inf       inf       nan       inf       inf       inf  1.78e+00 \n",
      "   600|      inf       inf       nan       inf       inf       inf  2.36e+00 \n",
      "   700|      inf       inf       nan       inf       inf       inf  2.80e+00 \n",
      "----------------------------------------------------------------------------\n",
      "Status: Infeasible\n",
      "Timing: Solve time: 2.80e+00s\n",
      "\tLin-sys: nnz in L factor: 952213, avg solve time: 3.77e-03s\n",
      "\tCones: avg projection time: 9.54e-06s\n",
      "----------------------------------------------------------------------------\n",
      "Certificate of primal infeasibility:\n",
      "dist(y, K*) = 0.0000e+00\n",
      "|A'y|_2 * |b|_2 = 4.5459e-04\n",
      "b'y = -1.0000\n",
      "============================================================================\n",
      "('status: infeasible',)\n",
      "('optimal value: inf',)\n",
      "('SOLVER CONVERGED?', False)\n"
     ]
    },
    {
     "name": "stderr",
     "output_type": "stream",
     "text": [
      "/Users/Baris/Documents/Thesis/modules/conrad/conrad/case.py:205: UserWarning: Problem infeasible as formulated\n",
      "  warn('Problem infeasible as formulated')\n"
     ]
    }
   ],
   "source": [
    "# solving without slacks will result in infeasibility\n",
    "status, run = case.plan(dvh_slack=False)\n",
    "print('SOLVER CONVERGED?', status)"
   ]
  },
  {
   "cell_type": "code",
   "execution_count": 10,
   "metadata": {},
   "outputs": [
    {
     "name": "stdout",
     "output_type": "stream",
     "text": [
      "('running solver...',)\n",
      "----------------------------------------------------------------------------\n",
      "\tSCS v1.2.6 - Splitting Conic Solver\n",
      "\t(c) Brendan O'Donoghue, Stanford University, 2012-2016\n",
      "----------------------------------------------------------------------------\n",
      "Lin-sys: sparse-direct, nnz in A = 722220\n",
      "eps = 1.00e-03, alpha = 1.50, max_iters = 2000, normalize = 1, scale = 1.00\n",
      "Variables n = 2771, constraints m = 5337\n",
      "Cones:\tlinear vars: 5337\n",
      "Setup time: 3.75e-01s\n",
      "----------------------------------------------------------------------------\n",
      " Iter | pri res | dua res | rel gap | pri obj | dua obj | kap/tau | time (s)\n",
      "----------------------------------------------------------------------------\n",
      "     0| 1.06e+00  1.92e-01  7.22e-01 -8.10e-01  1.78e+00  1.32e-15  1.78e-02 \n",
      "   100| 9.29e-04  1.16e-03  1.19e-03 -4.61e-01 -4.63e-01  1.15e-15  5.38e-01 \n",
      "   140| 6.38e-04  9.81e-04  4.84e-04 -4.61e-01 -4.62e-01  3.80e-16  8.08e-01 \n",
      "----------------------------------------------------------------------------\n",
      "Status: Solved\n",
      "Timing: Solve time: 8.08e-01s\n",
      "\tLin-sys: nnz in L factor: 954804, avg solve time: 5.34e-03s\n",
      "\tCones: avg projection time: 1.21e-05s\n",
      "----------------------------------------------------------------------------\n",
      "Error metrics:\n",
      "dist(s, K) = 1.3963e-16, dist(y, K*) = 0.0000e+00, s'y/|s||y| = -4.9787e-19\n",
      "|Ax + s - b|_2 / (1 + |b|_2) = 6.3790e-04\n",
      "|A'y + c|_2 / (1 + |c|_2) = 9.8148e-04\n",
      "|c'x + b'y| / (1 + |c'x| + |b'y|) = 4.8441e-04\n",
      "----------------------------------------------------------------------------\n",
      "c'x = -0.4606, -b'y = -0.4616\n",
      "============================================================================\n",
      "('status: optimal',)\n",
      "('optimal value: 0.014361542586',)\n",
      "('SOLVER CONVERGED?', True)\n"
     ]
    },
    {
     "data": {
      "image/png": "[encoded data removed]",
      "text/plain": [
       "<matplotlib.figure.Figure at 0x111dbd490>"
      ]
     },
     "metadata": {},
     "output_type": "display_data"
    }
   ],
   "source": [
    "# solve: WITH slack, ONE pass\n",
    "# (N.B.: use_slack=True by default, so could call w/o use_slack argument)\n",
    "status, run = case.plan(use_slack=True)\n",
    "print('SOLVER CONVERGED?', status)\n",
    "graphics.plot(run)"
   ]
  },
  {
   "cell_type": "code",
   "execution_count": 11,
   "metadata": {},
   "outputs": [
    {
     "name": "stdout",
     "output_type": "stream",
     "text": [
      "('running solver...',)\n",
      "----------------------------------------------------------------------------\n",
      "\tSCS v1.2.6 - Splitting Conic Solver\n",
      "\t(c) Brendan O'Donoghue, Stanford University, 2012-2016\n",
      "----------------------------------------------------------------------------\n",
      "Lin-sys: sparse-direct, nnz in A = 722220\n",
      "eps = 1.00e-03, alpha = 1.50, max_iters = 2000, normalize = 1, scale = 1.00\n",
      "Variables n = 2771, constraints m = 5337\n",
      "Cones:\tlinear vars: 5337\n",
      "Setup time: 2.92e-01s\n",
      "----------------------------------------------------------------------------\n",
      " Iter | pri res | dua res | rel gap | pri obj | dua obj | kap/tau | time (s)\n",
      "----------------------------------------------------------------------------\n",
      "     0| 1.06e+00  1.89e-01  7.21e-01 -8.16e-01  1.77e+00  1.33e-15  1.12e-02 \n",
      "   100| 9.65e-04  1.92e-03  7.94e-04 -4.64e-01 -4.66e-01  7.66e-16  3.45e-01 \n",
      "   120| 8.74e-04  7.86e-04  7.73e-04 -4.64e-01 -4.66e-01  7.62e-16  4.15e-01 \n",
      "----------------------------------------------------------------------------\n",
      "Status: Solved\n",
      "Timing: Solve time: 4.15e-01s\n",
      "\tLin-sys: nnz in L factor: 954804, avg solve time: 3.20e-03s\n",
      "\tCones: avg projection time: 9.47e-06s\n",
      "----------------------------------------------------------------------------\n",
      "Error metrics:\n",
      "dist(s, K) = 1.5532e-16, dist(y, K*) = 0.0000e+00, s'y/|s||y| = -1.2473e-19\n",
      "|Ax + s - b|_2 / (1 + |b|_2) = 8.7427e-04\n",
      "|A'y + c|_2 / (1 + |c|_2) = 7.8561e-04\n",
      "|c'x + b'y| / (1 + |c'x| + |b'y|) = 7.7268e-04\n",
      "----------------------------------------------------------------------------\n",
      "c'x = -0.4644, -b'y = -0.4659\n",
      "============================================================================\n",
      "('status: optimal',)\n",
      "('optimal value: 0.0106035978356',)\n",
      "('running solver...',)\n",
      "----------------------------------------------------------------------------\n",
      "\tSCS v1.2.6 - Splitting Conic Solver\n",
      "\t(c) Brendan O'Donoghue, Stanford University, 2012-2016\n",
      "----------------------------------------------------------------------------\n",
      "Lin-sys: sparse-direct, nnz in A = 621600\n",
      "eps = 1.00e-03, alpha = 1.50, max_iters = 2000, normalize = 1, scale = 1.00\n",
      "Variables n = 1200, constraints m = 3297\n",
      "Cones:\tlinear vars: 3297\n",
      "Setup time: 5.33e-01s\n",
      "----------------------------------------------------------------------------\n",
      " Iter | pri res | dua res | rel gap | pri obj | dua obj | kap/tau | time (s)\n",
      "----------------------------------------------------------------------------\n",
      "     0| 1.42e+00  4.27e+00  8.19e-01 -1.07e+00  3.44e+00  3.16e-15  1.57e-02 \n",
      "   100| 1.59e-03  8.85e-04  3.10e-03 -4.64e-01 -4.70e-01  6.60e-16  5.39e-01 \n",
      "   200| 3.35e-04  1.90e-03  4.33e-04 -4.65e-01 -4.66e-01  6.38e-16  8.63e-01 \n",
      "   260| 2.08e-04  8.98e-04  2.25e-04 -4.65e-01 -4.66e-01  6.33e-16  1.05e+00 \n",
      "----------------------------------------------------------------------------\n",
      "Status: Solved\n",
      "Timing: Solve time: 1.05e+00s\n",
      "\tLin-sys: nnz in L factor: 845997, avg solve time: 3.81e-03s\n",
      "\tCones: avg projection time: 6.72e-06s\n",
      "----------------------------------------------------------------------------\n",
      "Error metrics:\n",
      "dist(s, K) = 8.9803e-17, dist(y, K*) = 0.0000e+00, s'y/|s||y| = -5.8070e-19\n",
      "|Ax + s - b|_2 / (1 + |b|_2) = 2.0831e-04\n",
      "|A'y + c|_2 / (1 + |c|_2) = 8.9788e-04\n",
      "|c'x + b'y| / (1 + |c'x| + |b'y|) = 2.2500e-04\n",
      "----------------------------------------------------------------------------\n",
      "c'x = -0.4654, -b'y = -0.4659\n",
      "============================================================================\n",
      "('status: optimal',)\n",
      "('optimal value: 0.00956255116451',)\n",
      "('SOLVER CONVERGED?', True)\n"
     ]
    },
    {
     "data": {
      "image/png": "[encoded data removed]",
      "text/plain": [
       "<matplotlib.figure.Figure at 0x121882d10>"
      ]
     },
     "metadata": {},
     "output_type": "display_data"
    }
   ],
   "source": [
    "# solve: WITH slack, TWO passes \n",
    "status, run = case.plan(use_2pass=True)\n",
    "print('SOLVER CONVERGED?', status)\n",
    "graphics.plot(run, second_pass=True)"
   ]
  },
  {
   "cell_type": "code",
   "execution_count": null,
   "metadata": {
    "collapsed": true
   },
   "outputs": [],
   "source": []
  }
 ],
 "metadata": {
  "kernelspec": {
   "display_name": "Python 3",
   "language": "python",
   "name": "python3"
  },
  "language_info": {
   "codemirror_mode": {
    "name": "ipython",
    "version": 3
   },
   "file_extension": ".py",
   "mimetype": "text/x-python",
   "name": "python",
   "nbconvert_exporter": "python",
   "pygments_lexer": "ipython3",
   "version": "3.6.5"
  }
 },
 "nbformat": 4,
 "nbformat_minor": 1
}
