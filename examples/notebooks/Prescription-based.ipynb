{
 "cells": [
  {
   "cell_type": "code",
   "execution_count": null,
   "metadata": {
    "collapsed": true
   },
   "outputs": [],
   "source": [
    "%load_ext autoreload\n",
    "%autoreload 2\n",
    "%matplotlib inline"
   ]
  },
  {
   "cell_type": "code",
   "execution_count": null,
   "metadata": {
    "collapsed": false
   },
   "outputs": [],
   "source": [
    "from numpy.random import rand\n",
    "from conrad import *"
   ]
  },
  {
   "cell_type": "code",
   "execution_count": null,
   "metadata": {
    "collapsed": false
   },
   "outputs": [],
   "source": [
    "# prescription, as list of dictionaries:\n",
    "rx = [{\n",
    "        'name': 'tumor',\n",
    "        'label': 0,\n",
    "        'is_target': True,\n",
    "        'dose': '30 Gy',\n",
    "        'constraints': ['D85 > 0.9 rx', 'D99 < 1.1 rx'],\n",
    "    },{\n",
    "        'name': 'OAR',\n",
    "        'label': 1,\n",
    "        'is_target': False,\n",
    "        'constraints': ['mean < 5 Gy', 'D95 < 15 Gy'],\n",
    "    },{\n",
    "        'name': 'body',\n",
    "        'label': 2,\n",
    "        'is_target': False,\n",
    "        'constraints': ['mean < 10 Gy'],\n",
    "    }]\n",
    "\n",
    "# same prescription, as object\n",
    "prescription = Prescription(rx)"
   ]
  },
  {
   "cell_type": "code",
   "execution_count": null,
   "metadata": {
    "collapsed": true
   },
   "outputs": [],
   "source": [
    "TUMOR = 0\n",
    "OAR = 1\n",
    "BODY = 2\n",
    "\n",
    "# dimensions, voxel labels and dose matrix \n",
    "voxels, beams = 2000, 300\n",
    "v = (rand(voxels) > 0.3).astype(int) + (rand(voxels) > 0.3).astype(int)\n",
    "A = rand(voxels, beams)\n",
    "factor = 3.\n",
    "for voxel, label in enumerate(v):\n",
    "    if label == TUMOR:\n",
    "        A[voxel, :] *= factor\n",
    "        \n",
    "physics = Physics(dose_matrix=A, voxel_labels=v)"
   ]
  },
  {
   "cell_type": "code",
   "execution_count": null,
   "metadata": {
    "collapsed": false
   },
   "outputs": [],
   "source": [
    "# case from prescription (take structures, suppress constraints)\n",
    "case = Case(physics=physics, prescription=rx, suppress_rx_constraints=True)\n",
    "graphics = CasePlotter(case)\n",
    "print(case.anatomy)"
   ]
  },
  {
   "cell_type": "code",
   "execution_count": null,
   "metadata": {
    "collapsed": false
   },
   "outputs": [],
   "source": [
    "_, run = case.plan()\n",
    "graphics.plot(run)"
   ]
  },
  {
   "cell_type": "code",
   "execution_count": null,
   "metadata": {
    "collapsed": false
   },
   "outputs": [],
   "source": [
    "# transfer constraints from prescription to anatomy\n",
    "case.transfer_rx_constraints_to_anatomy()\n",
    "print(case.anatomy)\n",
    "_, run = case.plan()\n",
    "graphics.plot(run)"
   ]
  },
  {
   "cell_type": "code",
   "execution_count": null,
   "metadata": {
    "collapsed": false
   },
   "outputs": [],
   "source": [
    "# alternate syntax 1 (don't suppress constraints)\n",
    "case = Case(physics=physics, prescription=rx)\n",
    "print(case.anatomy)\n",
    "_, run = case.plan()\n",
    "graphics.plot(run)"
   ]
  },
  {
   "cell_type": "code",
   "execution_count": null,
   "metadata": {
    "collapsed": false
   },
   "outputs": [],
   "source": [
    "# alternate syntax 2 (initialize with prescription object)\n",
    "case = Case(physics=physics, prescription=prescription)\n",
    "print(case.anatomy)\n",
    "_, run = case.plan()\n",
    "graphics.plot(run)"
   ]
  },
  {
   "cell_type": "code",
   "execution_count": null,
   "metadata": {
    "collapsed": false
   },
   "outputs": [],
   "source": [
    "# alternate syntax 3 (initialize without prescription, add later as list of dictionaries)\n",
    "case = Case(physics=physics)\n",
    "case.prescription = rx\n",
    "\n",
    "# N.B.: automatic transfer of constraints from prescription to anatomy only happens in\n",
    "# constructor. Explicit call of transfer() method required when adding prescription to \n",
    "# an already-initialized case \n",
    "print(case.anatomy)\n",
    "_, run = case.plan()\n",
    "graphics.plot(run)"
   ]
  },
  {
   "cell_type": "code",
   "execution_count": null,
   "metadata": {
    "collapsed": true
   },
   "outputs": [],
   "source": [
    "# transfer constraints and re-plan\n",
    "case.transfer_rx_constraints_to_anatomy()\n",
    "print(case.anatomy)\n",
    "_, run = case.plan()\n",
    "graphics.plot(run)"
   ]
  },
  {
   "cell_type": "code",
   "execution_count": null,
   "metadata": {
    "collapsed": true
   },
   "outputs": [],
   "source": [
    "# alternate syntax 4 (initialize without prescription, add later as object)\n",
    "case = Case(physics=physics)\n",
    "case.prescription = prescription\n",
    "print(case.anatomy)\n",
    "_, run = case.plan()\n",
    "graphics.plot(run)"
   ]
  },
  {
   "cell_type": "code",
   "execution_count": null,
   "metadata": {
    "collapsed": true
   },
   "outputs": [],
   "source": [
    "# transfer constraints and re-plan\n",
    "case.transfer_rx_constraints_to_anatomy()\n",
    "print(case.anatomy)\n",
    "_, run = case.plan()\n",
    "graphics.plot(run)"
   ]
  }
 ],
 "metadata": {
  "kernelspec": {
   "display_name": "Python 2",
   "language": "python",
   "name": "python2"
  },
  "language_info": {
   "codemirror_mode": {
    "name": "ipython",
    "version": 2
   },
   "file_extension": ".py",
   "mimetype": "text/x-python",
   "name": "python",
   "nbconvert_exporter": "python",
   "pygments_lexer": "ipython2",
   "version": "2.7.11"
  }
 },
 "nbformat": 4,
 "nbformat_minor": 0
}
